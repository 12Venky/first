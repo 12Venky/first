{
  "nbformat": 4,
  "nbformat_minor": 0,
  "metadata": {
    "colab": {
      "provenance": [],
      "gpuType": "T4",
      "authorship_tag": "ABX9TyMRV0W9EMWY+JJ3IMNhrATc",
      "include_colab_link": true
    },
    "kernelspec": {
      "name": "python3",
      "display_name": "Python 3"
    },
    "language_info": {
      "name": "python"
    },
    "accelerator": "GPU"
  },
  "cells": [
    {
      "cell_type": "markdown",
      "metadata": {
        "id": "view-in-github",
        "colab_type": "text"
      },
      "source": [
        "<a href=\"https://colab.research.google.com/github/12Venky/first/blob/main/Movie_Rating_Prediction.ipynb\" target=\"_parent\"><img src=\"https://colab.research.google.com/assets/colab-badge.svg\" alt=\"Open In Colab\"/></a>"
      ]
    },
    {
      "cell_type": "markdown",
      "source": [
        "**Import the required libraries**"
      ],
      "metadata": {
        "id": "mGB0KI2IZthl"
      }
    },
    {
      "cell_type": "code",
      "execution_count": null,
      "metadata": {
        "id": "uom8wtgxZZki"
      },
      "outputs": [],
      "source": [
        "import pandas as pd\n",
        "import numpy as np\n",
        "from sklearn.model_selection import train_test_split\n",
        "from sklearn.metrics import r2_score,mean_squared_error\n",
        "from sklearn.preprocessing import OneHotEncoder\n",
        "from sklearn.ensemble import RandomForestRegressor\n",
        "from sklearn.decomposition import PCA\n",
        "from sklearn.preprocessing import StandardScaler\n",
        "from sklearn.model_selection import cross_val_score"
      ]
    },
    {
      "cell_type": "markdown",
      "source": [
        "**Load the dataset**"
      ],
      "metadata": {
        "id": "SQdVzDbFakjC"
      }
    },
    {
      "cell_type": "code",
      "source": [
        "data=pd.read_csv('/content/IMDb Movies India.csv',encoding='latin')\n",
        "data.head()"
      ],
      "metadata": {
        "colab": {
          "base_uri": "https://localhost:8080/",
          "height": 206
        },
        "id": "wr25wdKVajzk",
        "outputId": "39553827-2abc-45f1-a219-0d79bef63019"
      },
      "execution_count": null,
      "outputs": [
        {
          "output_type": "execute_result",
          "data": {
            "text/plain": [
              "                                 Name    Year Duration            Genre  \\\n",
              "0                                         NaN      NaN            Drama   \n",
              "1  #Gadhvi (He thought he was Gandhi)  (2019)  109 min            Drama   \n",
              "2                         #Homecoming  (2021)   90 min   Drama, Musical   \n",
              "3                             #Yaaram  (2019)  110 min  Comedy, Romance   \n",
              "4                   ...And Once Again  (2010)  105 min            Drama   \n",
              "\n",
              "   Rating Votes            Director       Actor 1             Actor 2  \\\n",
              "0     NaN   NaN       J.S. Randhawa      Manmauji              Birbal   \n",
              "1     7.0     8       Gaurav Bakshi  Rasika Dugal      Vivek Ghamande   \n",
              "2     NaN   NaN  Soumyajit Majumdar  Sayani Gupta   Plabita Borthakur   \n",
              "3     4.4    35          Ovais Khan       Prateik          Ishita Raj   \n",
              "4     NaN   NaN        Amol Palekar  Rajat Kapoor  Rituparna Sengupta   \n",
              "\n",
              "           Actor 3  \n",
              "0  Rajendra Bhatia  \n",
              "1    Arvind Jangid  \n",
              "2       Roy Angana  \n",
              "3  Siddhant Kapoor  \n",
              "4      Antara Mali  "
            ],
            "text/html": [
              "\n",
              "  <div id=\"df-d1e1344a-3525-42d6-b431-31dcba17453a\" class=\"colab-df-container\">\n",
              "    <div>\n",
              "<style scoped>\n",
              "    .dataframe tbody tr th:only-of-type {\n",
              "        vertical-align: middle;\n",
              "    }\n",
              "\n",
              "    .dataframe tbody tr th {\n",
              "        vertical-align: top;\n",
              "    }\n",
              "\n",
              "    .dataframe thead th {\n",
              "        text-align: right;\n",
              "    }\n",
              "</style>\n",
              "<table border=\"1\" class=\"dataframe\">\n",
              "  <thead>\n",
              "    <tr style=\"text-align: right;\">\n",
              "      <th></th>\n",
              "      <th>Name</th>\n",
              "      <th>Year</th>\n",
              "      <th>Duration</th>\n",
              "      <th>Genre</th>\n",
              "      <th>Rating</th>\n",
              "      <th>Votes</th>\n",
              "      <th>Director</th>\n",
              "      <th>Actor 1</th>\n",
              "      <th>Actor 2</th>\n",
              "      <th>Actor 3</th>\n",
              "    </tr>\n",
              "  </thead>\n",
              "  <tbody>\n",
              "    <tr>\n",
              "      <th>0</th>\n",
              "      <td></td>\n",
              "      <td>NaN</td>\n",
              "      <td>NaN</td>\n",
              "      <td>Drama</td>\n",
              "      <td>NaN</td>\n",
              "      <td>NaN</td>\n",
              "      <td>J.S. Randhawa</td>\n",
              "      <td>Manmauji</td>\n",
              "      <td>Birbal</td>\n",
              "      <td>Rajendra Bhatia</td>\n",
              "    </tr>\n",
              "    <tr>\n",
              "      <th>1</th>\n",
              "      <td>#Gadhvi (He thought he was Gandhi)</td>\n",
              "      <td>(2019)</td>\n",
              "      <td>109 min</td>\n",
              "      <td>Drama</td>\n",
              "      <td>7.0</td>\n",
              "      <td>8</td>\n",
              "      <td>Gaurav Bakshi</td>\n",
              "      <td>Rasika Dugal</td>\n",
              "      <td>Vivek Ghamande</td>\n",
              "      <td>Arvind Jangid</td>\n",
              "    </tr>\n",
              "    <tr>\n",
              "      <th>2</th>\n",
              "      <td>#Homecoming</td>\n",
              "      <td>(2021)</td>\n",
              "      <td>90 min</td>\n",
              "      <td>Drama, Musical</td>\n",
              "      <td>NaN</td>\n",
              "      <td>NaN</td>\n",
              "      <td>Soumyajit Majumdar</td>\n",
              "      <td>Sayani Gupta</td>\n",
              "      <td>Plabita Borthakur</td>\n",
              "      <td>Roy Angana</td>\n",
              "    </tr>\n",
              "    <tr>\n",
              "      <th>3</th>\n",
              "      <td>#Yaaram</td>\n",
              "      <td>(2019)</td>\n",
              "      <td>110 min</td>\n",
              "      <td>Comedy, Romance</td>\n",
              "      <td>4.4</td>\n",
              "      <td>35</td>\n",
              "      <td>Ovais Khan</td>\n",
              "      <td>Prateik</td>\n",
              "      <td>Ishita Raj</td>\n",
              "      <td>Siddhant Kapoor</td>\n",
              "    </tr>\n",
              "    <tr>\n",
              "      <th>4</th>\n",
              "      <td>...And Once Again</td>\n",
              "      <td>(2010)</td>\n",
              "      <td>105 min</td>\n",
              "      <td>Drama</td>\n",
              "      <td>NaN</td>\n",
              "      <td>NaN</td>\n",
              "      <td>Amol Palekar</td>\n",
              "      <td>Rajat Kapoor</td>\n",
              "      <td>Rituparna Sengupta</td>\n",
              "      <td>Antara Mali</td>\n",
              "    </tr>\n",
              "  </tbody>\n",
              "</table>\n",
              "</div>\n",
              "    <div class=\"colab-df-buttons\">\n",
              "      \n",
              "  <div class=\"colab-df-container\">\n",
              "    <button class=\"colab-df-convert\" onclick=\"convertToInteractive('df-d1e1344a-3525-42d6-b431-31dcba17453a')\"\n",
              "            title=\"Convert this dataframe to an interactive table.\"\n",
              "            style=\"display:none;\">\n",
              "      \n",
              "  <svg xmlns=\"http://www.w3.org/2000/svg\" height=\"24px\" viewBox=\"0 -960 960 960\">\n",
              "    <path d=\"M120-120v-720h720v720H120Zm60-500h600v-160H180v160Zm220 220h160v-160H400v160Zm0 220h160v-160H400v160ZM180-400h160v-160H180v160Zm440 0h160v-160H620v160ZM180-180h160v-160H180v160Zm440 0h160v-160H620v160Z\"/>\n",
              "  </svg>\n",
              "    </button>\n",
              "    \n",
              "  <style>\n",
              "    .colab-df-container {\n",
              "      display:flex;\n",
              "      gap: 12px;\n",
              "    }\n",
              "\n",
              "    .colab-df-convert {\n",
              "      background-color: #E8F0FE;\n",
              "      border: none;\n",
              "      border-radius: 50%;\n",
              "      cursor: pointer;\n",
              "      display: none;\n",
              "      fill: #1967D2;\n",
              "      height: 32px;\n",
              "      padding: 0 0 0 0;\n",
              "      width: 32px;\n",
              "    }\n",
              "\n",
              "    .colab-df-convert:hover {\n",
              "      background-color: #E2EBFA;\n",
              "      box-shadow: 0px 1px 2px rgba(60, 64, 67, 0.3), 0px 1px 3px 1px rgba(60, 64, 67, 0.15);\n",
              "      fill: #174EA6;\n",
              "    }\n",
              "\n",
              "    .colab-df-buttons div {\n",
              "      margin-bottom: 4px;\n",
              "    }\n",
              "\n",
              "    [theme=dark] .colab-df-convert {\n",
              "      background-color: #3B4455;\n",
              "      fill: #D2E3FC;\n",
              "    }\n",
              "\n",
              "    [theme=dark] .colab-df-convert:hover {\n",
              "      background-color: #434B5C;\n",
              "      box-shadow: 0px 1px 3px 1px rgba(0, 0, 0, 0.15);\n",
              "      filter: drop-shadow(0px 1px 2px rgba(0, 0, 0, 0.3));\n",
              "      fill: #FFFFFF;\n",
              "    }\n",
              "  </style>\n",
              "\n",
              "    <script>\n",
              "      const buttonEl =\n",
              "        document.querySelector('#df-d1e1344a-3525-42d6-b431-31dcba17453a button.colab-df-convert');\n",
              "      buttonEl.style.display =\n",
              "        google.colab.kernel.accessAllowed ? 'block' : 'none';\n",
              "\n",
              "      async function convertToInteractive(key) {\n",
              "        const element = document.querySelector('#df-d1e1344a-3525-42d6-b431-31dcba17453a');\n",
              "        const dataTable =\n",
              "          await google.colab.kernel.invokeFunction('convertToInteractive',\n",
              "                                                    [key], {});\n",
              "        if (!dataTable) return;\n",
              "\n",
              "        const docLinkHtml = 'Like what you see? Visit the ' +\n",
              "          '<a target=\"_blank\" href=https://colab.research.google.com/notebooks/data_table.ipynb>data table notebook</a>'\n",
              "          + ' to learn more about interactive tables.';\n",
              "        element.innerHTML = '';\n",
              "        dataTable['output_type'] = 'display_data';\n",
              "        await google.colab.output.renderOutput(dataTable, element);\n",
              "        const docLink = document.createElement('div');\n",
              "        docLink.innerHTML = docLinkHtml;\n",
              "        element.appendChild(docLink);\n",
              "      }\n",
              "    </script>\n",
              "  </div>\n",
              "  \n",
              "    </div>\n",
              "  </div>\n",
              "  "
            ]
          },
          "metadata": {},
          "execution_count": 115
        }
      ]
    },
    {
      "cell_type": "markdown",
      "source": [
        "**Data Preprocessing**"
      ],
      "metadata": {
        "id": "D7CUecifbj1E"
      }
    },
    {
      "cell_type": "code",
      "source": [
        "data.shape # This will return the shape of dataset"
      ],
      "metadata": {
        "colab": {
          "base_uri": "https://localhost:8080/"
        },
        "id": "UqkpKeg4b4jl",
        "outputId": "2ce3a15e-99b7-4ea4-bb19-9699488fd955"
      },
      "execution_count": null,
      "outputs": [
        {
          "output_type": "execute_result",
          "data": {
            "text/plain": [
              "(15509, 10)"
            ]
          },
          "metadata": {},
          "execution_count": 116
        }
      ]
    },
    {
      "cell_type": "code",
      "source": [
        "data.info() # This will return the data type and non-null count of features"
      ],
      "metadata": {
        "colab": {
          "base_uri": "https://localhost:8080/"
        },
        "id": "Xak8zYZ9b43N",
        "outputId": "98383cee-6572-47c1-e1fa-42360a6c136c"
      },
      "execution_count": null,
      "outputs": [
        {
          "output_type": "stream",
          "name": "stdout",
          "text": [
            "<class 'pandas.core.frame.DataFrame'>\n",
            "RangeIndex: 15509 entries, 0 to 15508\n",
            "Data columns (total 10 columns):\n",
            " #   Column    Non-Null Count  Dtype  \n",
            "---  ------    --------------  -----  \n",
            " 0   Name      15509 non-null  object \n",
            " 1   Year      14981 non-null  object \n",
            " 2   Duration  7240 non-null   object \n",
            " 3   Genre     13632 non-null  object \n",
            " 4   Rating    7919 non-null   float64\n",
            " 5   Votes     7920 non-null   object \n",
            " 6   Director  14984 non-null  object \n",
            " 7   Actor 1   13892 non-null  object \n",
            " 8   Actor 2   13125 non-null  object \n",
            " 9   Actor 3   12365 non-null  object \n",
            "dtypes: float64(1), object(9)\n",
            "memory usage: 1.2+ MB\n"
          ]
        }
      ]
    },
    {
      "cell_type": "code",
      "source": [
        "data.describe(include=['object','float64'])"
      ],
      "metadata": {
        "colab": {
          "base_uri": "https://localhost:8080/",
          "height": 394
        },
        "id": "hEKuRycrbjZ-",
        "outputId": "970bb02b-c98e-4db6-ef84-1991bd317856"
      },
      "execution_count": null,
      "outputs": [
        {
          "output_type": "execute_result",
          "data": {
            "text/plain": [
              "         Name    Year Duration  Genre       Rating Votes      Director  \\\n",
              "count   15509   14981     7240  13632  7919.000000  7920         14984   \n",
              "unique  13838     102      182    485          NaN  2034          5938   \n",
              "top     Mamta  (2019)  120 min  Drama          NaN     8  Jayant Desai   \n",
              "freq        7     410      240   2780          NaN   227            58   \n",
              "mean      NaN     NaN      NaN    NaN     5.841621   NaN           NaN   \n",
              "std       NaN     NaN      NaN    NaN     1.381777   NaN           NaN   \n",
              "min       NaN     NaN      NaN    NaN     1.100000   NaN           NaN   \n",
              "25%       NaN     NaN      NaN    NaN     4.900000   NaN           NaN   \n",
              "50%       NaN     NaN      NaN    NaN     6.000000   NaN           NaN   \n",
              "75%       NaN     NaN      NaN    NaN     6.800000   NaN           NaN   \n",
              "max       NaN     NaN      NaN    NaN    10.000000   NaN           NaN   \n",
              "\n",
              "            Actor 1 Actor 2 Actor 3  \n",
              "count         13892   13125   12365  \n",
              "unique         4718    4891    4820  \n",
              "top     Ashok Kumar   Rekha    Pran  \n",
              "freq            158      83      91  \n",
              "mean            NaN     NaN     NaN  \n",
              "std             NaN     NaN     NaN  \n",
              "min             NaN     NaN     NaN  \n",
              "25%             NaN     NaN     NaN  \n",
              "50%             NaN     NaN     NaN  \n",
              "75%             NaN     NaN     NaN  \n",
              "max             NaN     NaN     NaN  "
            ],
            "text/html": [
              "\n",
              "  <div id=\"df-68cf8023-909a-457a-94f2-9967a454af62\" class=\"colab-df-container\">\n",
              "    <div>\n",
              "<style scoped>\n",
              "    .dataframe tbody tr th:only-of-type {\n",
              "        vertical-align: middle;\n",
              "    }\n",
              "\n",
              "    .dataframe tbody tr th {\n",
              "        vertical-align: top;\n",
              "    }\n",
              "\n",
              "    .dataframe thead th {\n",
              "        text-align: right;\n",
              "    }\n",
              "</style>\n",
              "<table border=\"1\" class=\"dataframe\">\n",
              "  <thead>\n",
              "    <tr style=\"text-align: right;\">\n",
              "      <th></th>\n",
              "      <th>Name</th>\n",
              "      <th>Year</th>\n",
              "      <th>Duration</th>\n",
              "      <th>Genre</th>\n",
              "      <th>Rating</th>\n",
              "      <th>Votes</th>\n",
              "      <th>Director</th>\n",
              "      <th>Actor 1</th>\n",
              "      <th>Actor 2</th>\n",
              "      <th>Actor 3</th>\n",
              "    </tr>\n",
              "  </thead>\n",
              "  <tbody>\n",
              "    <tr>\n",
              "      <th>count</th>\n",
              "      <td>15509</td>\n",
              "      <td>14981</td>\n",
              "      <td>7240</td>\n",
              "      <td>13632</td>\n",
              "      <td>7919.000000</td>\n",
              "      <td>7920</td>\n",
              "      <td>14984</td>\n",
              "      <td>13892</td>\n",
              "      <td>13125</td>\n",
              "      <td>12365</td>\n",
              "    </tr>\n",
              "    <tr>\n",
              "      <th>unique</th>\n",
              "      <td>13838</td>\n",
              "      <td>102</td>\n",
              "      <td>182</td>\n",
              "      <td>485</td>\n",
              "      <td>NaN</td>\n",
              "      <td>2034</td>\n",
              "      <td>5938</td>\n",
              "      <td>4718</td>\n",
              "      <td>4891</td>\n",
              "      <td>4820</td>\n",
              "    </tr>\n",
              "    <tr>\n",
              "      <th>top</th>\n",
              "      <td>Mamta</td>\n",
              "      <td>(2019)</td>\n",
              "      <td>120 min</td>\n",
              "      <td>Drama</td>\n",
              "      <td>NaN</td>\n",
              "      <td>8</td>\n",
              "      <td>Jayant Desai</td>\n",
              "      <td>Ashok Kumar</td>\n",
              "      <td>Rekha</td>\n",
              "      <td>Pran</td>\n",
              "    </tr>\n",
              "    <tr>\n",
              "      <th>freq</th>\n",
              "      <td>7</td>\n",
              "      <td>410</td>\n",
              "      <td>240</td>\n",
              "      <td>2780</td>\n",
              "      <td>NaN</td>\n",
              "      <td>227</td>\n",
              "      <td>58</td>\n",
              "      <td>158</td>\n",
              "      <td>83</td>\n",
              "      <td>91</td>\n",
              "    </tr>\n",
              "    <tr>\n",
              "      <th>mean</th>\n",
              "      <td>NaN</td>\n",
              "      <td>NaN</td>\n",
              "      <td>NaN</td>\n",
              "      <td>NaN</td>\n",
              "      <td>5.841621</td>\n",
              "      <td>NaN</td>\n",
              "      <td>NaN</td>\n",
              "      <td>NaN</td>\n",
              "      <td>NaN</td>\n",
              "      <td>NaN</td>\n",
              "    </tr>\n",
              "    <tr>\n",
              "      <th>std</th>\n",
              "      <td>NaN</td>\n",
              "      <td>NaN</td>\n",
              "      <td>NaN</td>\n",
              "      <td>NaN</td>\n",
              "      <td>1.381777</td>\n",
              "      <td>NaN</td>\n",
              "      <td>NaN</td>\n",
              "      <td>NaN</td>\n",
              "      <td>NaN</td>\n",
              "      <td>NaN</td>\n",
              "    </tr>\n",
              "    <tr>\n",
              "      <th>min</th>\n",
              "      <td>NaN</td>\n",
              "      <td>NaN</td>\n",
              "      <td>NaN</td>\n",
              "      <td>NaN</td>\n",
              "      <td>1.100000</td>\n",
              "      <td>NaN</td>\n",
              "      <td>NaN</td>\n",
              "      <td>NaN</td>\n",
              "      <td>NaN</td>\n",
              "      <td>NaN</td>\n",
              "    </tr>\n",
              "    <tr>\n",
              "      <th>25%</th>\n",
              "      <td>NaN</td>\n",
              "      <td>NaN</td>\n",
              "      <td>NaN</td>\n",
              "      <td>NaN</td>\n",
              "      <td>4.900000</td>\n",
              "      <td>NaN</td>\n",
              "      <td>NaN</td>\n",
              "      <td>NaN</td>\n",
              "      <td>NaN</td>\n",
              "      <td>NaN</td>\n",
              "    </tr>\n",
              "    <tr>\n",
              "      <th>50%</th>\n",
              "      <td>NaN</td>\n",
              "      <td>NaN</td>\n",
              "      <td>NaN</td>\n",
              "      <td>NaN</td>\n",
              "      <td>6.000000</td>\n",
              "      <td>NaN</td>\n",
              "      <td>NaN</td>\n",
              "      <td>NaN</td>\n",
              "      <td>NaN</td>\n",
              "      <td>NaN</td>\n",
              "    </tr>\n",
              "    <tr>\n",
              "      <th>75%</th>\n",
              "      <td>NaN</td>\n",
              "      <td>NaN</td>\n",
              "      <td>NaN</td>\n",
              "      <td>NaN</td>\n",
              "      <td>6.800000</td>\n",
              "      <td>NaN</td>\n",
              "      <td>NaN</td>\n",
              "      <td>NaN</td>\n",
              "      <td>NaN</td>\n",
              "      <td>NaN</td>\n",
              "    </tr>\n",
              "    <tr>\n",
              "      <th>max</th>\n",
              "      <td>NaN</td>\n",
              "      <td>NaN</td>\n",
              "      <td>NaN</td>\n",
              "      <td>NaN</td>\n",
              "      <td>10.000000</td>\n",
              "      <td>NaN</td>\n",
              "      <td>NaN</td>\n",
              "      <td>NaN</td>\n",
              "      <td>NaN</td>\n",
              "      <td>NaN</td>\n",
              "    </tr>\n",
              "  </tbody>\n",
              "</table>\n",
              "</div>\n",
              "    <div class=\"colab-df-buttons\">\n",
              "      \n",
              "  <div class=\"colab-df-container\">\n",
              "    <button class=\"colab-df-convert\" onclick=\"convertToInteractive('df-68cf8023-909a-457a-94f2-9967a454af62')\"\n",
              "            title=\"Convert this dataframe to an interactive table.\"\n",
              "            style=\"display:none;\">\n",
              "      \n",
              "  <svg xmlns=\"http://www.w3.org/2000/svg\" height=\"24px\" viewBox=\"0 -960 960 960\">\n",
              "    <path d=\"M120-120v-720h720v720H120Zm60-500h600v-160H180v160Zm220 220h160v-160H400v160Zm0 220h160v-160H400v160ZM180-400h160v-160H180v160Zm440 0h160v-160H620v160ZM180-180h160v-160H180v160Zm440 0h160v-160H620v160Z\"/>\n",
              "  </svg>\n",
              "    </button>\n",
              "    \n",
              "  <style>\n",
              "    .colab-df-container {\n",
              "      display:flex;\n",
              "      gap: 12px;\n",
              "    }\n",
              "\n",
              "    .colab-df-convert {\n",
              "      background-color: #E8F0FE;\n",
              "      border: none;\n",
              "      border-radius: 50%;\n",
              "      cursor: pointer;\n",
              "      display: none;\n",
              "      fill: #1967D2;\n",
              "      height: 32px;\n",
              "      padding: 0 0 0 0;\n",
              "      width: 32px;\n",
              "    }\n",
              "\n",
              "    .colab-df-convert:hover {\n",
              "      background-color: #E2EBFA;\n",
              "      box-shadow: 0px 1px 2px rgba(60, 64, 67, 0.3), 0px 1px 3px 1px rgba(60, 64, 67, 0.15);\n",
              "      fill: #174EA6;\n",
              "    }\n",
              "\n",
              "    .colab-df-buttons div {\n",
              "      margin-bottom: 4px;\n",
              "    }\n",
              "\n",
              "    [theme=dark] .colab-df-convert {\n",
              "      background-color: #3B4455;\n",
              "      fill: #D2E3FC;\n",
              "    }\n",
              "\n",
              "    [theme=dark] .colab-df-convert:hover {\n",
              "      background-color: #434B5C;\n",
              "      box-shadow: 0px 1px 3px 1px rgba(0, 0, 0, 0.15);\n",
              "      filter: drop-shadow(0px 1px 2px rgba(0, 0, 0, 0.3));\n",
              "      fill: #FFFFFF;\n",
              "    }\n",
              "  </style>\n",
              "\n",
              "    <script>\n",
              "      const buttonEl =\n",
              "        document.querySelector('#df-68cf8023-909a-457a-94f2-9967a454af62 button.colab-df-convert');\n",
              "      buttonEl.style.display =\n",
              "        google.colab.kernel.accessAllowed ? 'block' : 'none';\n",
              "\n",
              "      async function convertToInteractive(key) {\n",
              "        const element = document.querySelector('#df-68cf8023-909a-457a-94f2-9967a454af62');\n",
              "        const dataTable =\n",
              "          await google.colab.kernel.invokeFunction('convertToInteractive',\n",
              "                                                    [key], {});\n",
              "        if (!dataTable) return;\n",
              "\n",
              "        const docLinkHtml = 'Like what you see? Visit the ' +\n",
              "          '<a target=\"_blank\" href=https://colab.research.google.com/notebooks/data_table.ipynb>data table notebook</a>'\n",
              "          + ' to learn more about interactive tables.';\n",
              "        element.innerHTML = '';\n",
              "        dataTable['output_type'] = 'display_data';\n",
              "        await google.colab.output.renderOutput(dataTable, element);\n",
              "        const docLink = document.createElement('div');\n",
              "        docLink.innerHTML = docLinkHtml;\n",
              "        element.appendChild(docLink);\n",
              "      }\n",
              "    </script>\n",
              "  </div>\n",
              "  \n",
              "    </div>\n",
              "  </div>\n",
              "  "
            ]
          },
          "metadata": {},
          "execution_count": 118
        }
      ]
    },
    {
      "cell_type": "code",
      "source": [
        "data.isna().sum()  # As we have more missing values we don't drop them ,we have to replce them"
      ],
      "metadata": {
        "colab": {
          "base_uri": "https://localhost:8080/",
          "height": 398
        },
        "id": "W-Jjwr7Xb4nG",
        "outputId": "6ef9e947-9076-451f-fb03-1e4295abc9b6"
      },
      "execution_count": null,
      "outputs": [
        {
          "output_type": "execute_result",
          "data": {
            "text/plain": [
              "Name           0\n",
              "Year         528\n",
              "Duration    8269\n",
              "Genre       1877\n",
              "Rating      7590\n",
              "Votes       7589\n",
              "Director     525\n",
              "Actor 1     1617\n",
              "Actor 2     2384\n",
              "Actor 3     3144\n",
              "dtype: int64"
            ],
            "text/html": [
              "<div>\n",
              "<style scoped>\n",
              "    .dataframe tbody tr th:only-of-type {\n",
              "        vertical-align: middle;\n",
              "    }\n",
              "\n",
              "    .dataframe tbody tr th {\n",
              "        vertical-align: top;\n",
              "    }\n",
              "\n",
              "    .dataframe thead th {\n",
              "        text-align: right;\n",
              "    }\n",
              "</style>\n",
              "<table border=\"1\" class=\"dataframe\">\n",
              "  <thead>\n",
              "    <tr style=\"text-align: right;\">\n",
              "      <th></th>\n",
              "      <th>0</th>\n",
              "    </tr>\n",
              "  </thead>\n",
              "  <tbody>\n",
              "    <tr>\n",
              "      <th>Name</th>\n",
              "      <td>0</td>\n",
              "    </tr>\n",
              "    <tr>\n",
              "      <th>Year</th>\n",
              "      <td>528</td>\n",
              "    </tr>\n",
              "    <tr>\n",
              "      <th>Duration</th>\n",
              "      <td>8269</td>\n",
              "    </tr>\n",
              "    <tr>\n",
              "      <th>Genre</th>\n",
              "      <td>1877</td>\n",
              "    </tr>\n",
              "    <tr>\n",
              "      <th>Rating</th>\n",
              "      <td>7590</td>\n",
              "    </tr>\n",
              "    <tr>\n",
              "      <th>Votes</th>\n",
              "      <td>7589</td>\n",
              "    </tr>\n",
              "    <tr>\n",
              "      <th>Director</th>\n",
              "      <td>525</td>\n",
              "    </tr>\n",
              "    <tr>\n",
              "      <th>Actor 1</th>\n",
              "      <td>1617</td>\n",
              "    </tr>\n",
              "    <tr>\n",
              "      <th>Actor 2</th>\n",
              "      <td>2384</td>\n",
              "    </tr>\n",
              "    <tr>\n",
              "      <th>Actor 3</th>\n",
              "      <td>3144</td>\n",
              "    </tr>\n",
              "  </tbody>\n",
              "</table>\n",
              "</div><br><label><b>dtype:</b> int64</label>"
            ]
          },
          "metadata": {},
          "execution_count": 119
        }
      ]
    },
    {
      "cell_type": "code",
      "source": [
        "data.duplicated().sum()"
      ],
      "metadata": {
        "colab": {
          "base_uri": "https://localhost:8080/"
        },
        "id": "xLkPHLdLdNqD",
        "outputId": "2c5156f8-bfed-4ec4-95df-5ddb624f8027"
      },
      "execution_count": null,
      "outputs": [
        {
          "output_type": "execute_result",
          "data": {
            "text/plain": [
              "np.int64(6)"
            ]
          },
          "metadata": {},
          "execution_count": 120
        }
      ]
    },
    {
      "cell_type": "code",
      "source": [
        "data.drop_duplicates(inplace=True) #Removing duplicates"
      ],
      "metadata": {
        "id": "p3xuW3DWdNvH"
      },
      "execution_count": null,
      "outputs": []
    },
    {
      "cell_type": "code",
      "source": [
        "data['Duration'].unique()"
      ],
      "metadata": {
        "colab": {
          "base_uri": "https://localhost:8080/"
        },
        "id": "S7xWNJCohF9-",
        "outputId": "e4cc7102-3609-426b-866a-5f64ca3a9a19"
      },
      "execution_count": null,
      "outputs": [
        {
          "output_type": "execute_result",
          "data": {
            "text/plain": [
              "array([nan, '109 min', '90 min', '110 min', '105 min', '147 min',\n",
              "       '142 min', '59 min', '82 min', '116 min', '96 min', '120 min',\n",
              "       '161 min', '166 min', '102 min', '87 min', '132 min', '66 min',\n",
              "       '146 min', '112 min', '168 min', '158 min', '126 min', '94 min',\n",
              "       '138 min', '124 min', '144 min', '157 min', '136 min', '107 min',\n",
              "       '113 min', '80 min', '122 min', '149 min', '148 min', '130 min',\n",
              "       '121 min', '188 min', '115 min', '103 min', '114 min', '170 min',\n",
              "       '100 min', '99 min', '140 min', '128 min', '93 min', '125 min',\n",
              "       '145 min', '75 min', '111 min', '134 min', '85 min', '104 min',\n",
              "       '92 min', '137 min', '127 min', '150 min', '119 min', '135 min',\n",
              "       '86 min', '76 min', '70 min', '72 min', '151 min', '95 min',\n",
              "       '52 min', '89 min', '143 min', '177 min', '117 min', '123 min',\n",
              "       '154 min', '88 min', '175 min', '153 min', '78 min', '139 min',\n",
              "       '133 min', '101 min', '180 min', '60 min', '46 min', '164 min',\n",
              "       '162 min', '171 min', '160 min', '152 min', '62 min', '163 min',\n",
              "       '165 min', '141 min', '210 min', '129 min', '156 min', '240 min',\n",
              "       '172 min', '155 min', '118 min', '167 min', '106 min', '193 min',\n",
              "       '57 min', '108 min', '45 min', '195 min', '174 min', '81 min',\n",
              "       '178 min', '58 min', '184 min', '97 min', '98 min', '131 min',\n",
              "       '176 min', '169 min', '77 min', '91 min', '84 min', '173 min',\n",
              "       '74 min', '67 min', '181 min', '300 min', '79 min', '65 min',\n",
              "       '48 min', '183 min', '159 min', '83 min', '68 min', '49 min',\n",
              "       '201 min', '64 min', '186 min', '50 min', '69 min', '207 min',\n",
              "       '55 min', '61 min', '185 min', '187 min', '216 min', '63 min',\n",
              "       '54 min', '198 min', '51 min', '71 min', '73 min', '218 min',\n",
              "       '191 min', '321 min', '199 min', '53 min', '56 min', '179 min',\n",
              "       '47 min', '206 min', '190 min', '211 min', '247 min', '213 min',\n",
              "       '223 min', '2 min', '189 min', '224 min', '202 min', '255 min',\n",
              "       '197 min', '182 min', '214 min', '208 min', '21 min', '200 min',\n",
              "       '192 min', '37 min', '261 min', '238 min', '204 min', '235 min',\n",
              "       '298 min', '217 min', '250 min'], dtype=object)"
            ]
          },
          "metadata": {},
          "execution_count": 122
        }
      ]
    },
    {
      "cell_type": "code",
      "source": [
        "data['Year'].unique()"
      ],
      "metadata": {
        "colab": {
          "base_uri": "https://localhost:8080/"
        },
        "id": "x0lmhrhyhe7V",
        "outputId": "8742cb60-8778-4648-c559-db3720fcd2d2"
      },
      "execution_count": null,
      "outputs": [
        {
          "output_type": "execute_result",
          "data": {
            "text/plain": [
              "array([nan, '(2019)', '(2021)', '(2010)', '(1997)', '(2005)', '(2008)',\n",
              "       '(2012)', '(2014)', '(2004)', '(2016)', '(1991)', '(1990)',\n",
              "       '(2018)', '(1987)', '(1948)', '(1958)', '(2017)', '(2020)',\n",
              "       '(2009)', '(2002)', '(1993)', '(1946)', '(1994)', '(2007)',\n",
              "       '(2013)', '(2003)', '(1998)', '(1979)', '(1951)', '(1956)',\n",
              "       '(1974)', '(2015)', '(2006)', '(1981)', '(1985)', '(2011)',\n",
              "       '(2001)', '(1967)', '(1988)', '(1995)', '(1959)', '(1996)',\n",
              "       '(1970)', '(1976)', '(2000)', '(1999)', '(1973)', '(1968)',\n",
              "       '(1943)', '(1953)', '(1986)', '(1983)', '(1989)', '(1982)',\n",
              "       '(1977)', '(1957)', '(1950)', '(1992)', '(1969)', '(1975)',\n",
              "       '(1947)', '(1972)', '(1971)', '(1935)', '(1978)', '(1960)',\n",
              "       '(1944)', '(1963)', '(1940)', '(1984)', '(1934)', '(1955)',\n",
              "       '(1936)', '(1980)', '(1966)', '(1949)', '(1962)', '(1964)',\n",
              "       '(1952)', '(1933)', '(1942)', '(1939)', '(1954)', '(1945)',\n",
              "       '(1961)', '(1965)', '(1938)', '(1941)', '(1931)', '(1937)',\n",
              "       '(2022)', '(1932)', '(1923)', '(1915)', '(1928)', '(1922)',\n",
              "       '(1917)', '(1913)', '(1930)', '(1926)', '(1914)', '(1924)'],\n",
              "      dtype=object)"
            ]
          },
          "metadata": {},
          "execution_count": 123
        }
      ]
    },
    {
      "cell_type": "code",
      "source": [
        "data['Votes'].unique()"
      ],
      "metadata": {
        "colab": {
          "base_uri": "https://localhost:8080/"
        },
        "id": "BgdeeYVQhkZA",
        "outputId": "8854e004-b8a9-4f93-e2d0-eef80d92afa8"
      },
      "execution_count": null,
      "outputs": [
        {
          "output_type": "execute_result",
          "data": {
            "text/plain": [
              "array([nan, '8', '35', ..., '70,344', '408', '1,496'], dtype=object)"
            ]
          },
          "metadata": {},
          "execution_count": 124
        }
      ]
    },
    {
      "cell_type": "markdown",
      "source": [
        "**Handling Missing Values**"
      ],
      "metadata": {
        "id": "voEBNlwcsUpt"
      }
    },
    {
      "cell_type": "code",
      "source": [
        "missing_percentage = (data.isnull().sum() / len(data)) * 100\n",
        "print(missing_percentage)"
      ],
      "metadata": {
        "colab": {
          "base_uri": "https://localhost:8080/"
        },
        "id": "FJ3yi60wlTVR",
        "outputId": "654b5dd0-bbcf-4f61-f672-98fabb8504df"
      },
      "execution_count": null,
      "outputs": [
        {
          "output_type": "stream",
          "name": "stdout",
          "text": [
            "Name         0.000000\n",
            "Year         3.399342\n",
            "Duration    53.305812\n",
            "Genre       12.100884\n",
            "Rating      48.919564\n",
            "Votes       48.913114\n",
            "Director     3.379991\n",
            "Actor 1     10.417339\n",
            "Actor 2     15.358318\n",
            "Actor 3     20.254144\n",
            "dtype: float64\n"
          ]
        }
      ]
    },
    {
      "cell_type": "code",
      "source": [
        "threshold = 50   # dropping based on the threshold value i.e half missing values\n",
        "columns_to_drop = missing_percentage[missing_percentage > threshold].index\n",
        "data.drop(columns=columns_to_drop, inplace=True)\n",
        "print(f\"Dropped columns: {columns_to_drop}\")"
      ],
      "metadata": {
        "colab": {
          "base_uri": "https://localhost:8080/"
        },
        "id": "kidhpnnQlTa8",
        "outputId": "5ac7618c-5921-4a57-a5a7-209971cc4c74"
      },
      "execution_count": null,
      "outputs": [
        {
          "output_type": "stream",
          "name": "stdout",
          "text": [
            "Dropped columns: Index(['Duration'], dtype='object')\n"
          ]
        }
      ]
    },
    {
      "cell_type": "code",
      "source": [
        "data['Year'] = data['Year'].astype(str).str.replace(r'[^0-9]', '', regex=True)\n",
        "data['Year'] = pd.to_numeric(data['Year'], errors='coerce')\n",
        "data.fillna({'Year':0}, inplace=True)\n",
        "data['Year'] = data['Year'].astype(int)"
      ],
      "metadata": {
        "id": "UAhv5EZzlTdl"
      },
      "execution_count": null,
      "outputs": []
    },
    {
      "cell_type": "code",
      "source": [
        "data['Year']"
      ],
      "metadata": {
        "colab": {
          "base_uri": "https://localhost:8080/",
          "height": 458
        },
        "id": "hUCitwGVlTge",
        "outputId": "543afcf9-4649-41f2-b16c-23d889445144"
      },
      "execution_count": null,
      "outputs": [
        {
          "output_type": "execute_result",
          "data": {
            "text/plain": [
              "0           0\n",
              "1        2019\n",
              "2        2021\n",
              "3        2019\n",
              "4        2010\n",
              "         ... \n",
              "15504    1988\n",
              "15505    1999\n",
              "15506    2005\n",
              "15507    1988\n",
              "15508    1998\n",
              "Name: Year, Length: 15503, dtype: int64"
            ],
            "text/html": [
              "<div>\n",
              "<style scoped>\n",
              "    .dataframe tbody tr th:only-of-type {\n",
              "        vertical-align: middle;\n",
              "    }\n",
              "\n",
              "    .dataframe tbody tr th {\n",
              "        vertical-align: top;\n",
              "    }\n",
              "\n",
              "    .dataframe thead th {\n",
              "        text-align: right;\n",
              "    }\n",
              "</style>\n",
              "<table border=\"1\" class=\"dataframe\">\n",
              "  <thead>\n",
              "    <tr style=\"text-align: right;\">\n",
              "      <th></th>\n",
              "      <th>Year</th>\n",
              "    </tr>\n",
              "  </thead>\n",
              "  <tbody>\n",
              "    <tr>\n",
              "      <th>0</th>\n",
              "      <td>0</td>\n",
              "    </tr>\n",
              "    <tr>\n",
              "      <th>1</th>\n",
              "      <td>2019</td>\n",
              "    </tr>\n",
              "    <tr>\n",
              "      <th>2</th>\n",
              "      <td>2021</td>\n",
              "    </tr>\n",
              "    <tr>\n",
              "      <th>3</th>\n",
              "      <td>2019</td>\n",
              "    </tr>\n",
              "    <tr>\n",
              "      <th>4</th>\n",
              "      <td>2010</td>\n",
              "    </tr>\n",
              "    <tr>\n",
              "      <th>...</th>\n",
              "      <td>...</td>\n",
              "    </tr>\n",
              "    <tr>\n",
              "      <th>15504</th>\n",
              "      <td>1988</td>\n",
              "    </tr>\n",
              "    <tr>\n",
              "      <th>15505</th>\n",
              "      <td>1999</td>\n",
              "    </tr>\n",
              "    <tr>\n",
              "      <th>15506</th>\n",
              "      <td>2005</td>\n",
              "    </tr>\n",
              "    <tr>\n",
              "      <th>15507</th>\n",
              "      <td>1988</td>\n",
              "    </tr>\n",
              "    <tr>\n",
              "      <th>15508</th>\n",
              "      <td>1998</td>\n",
              "    </tr>\n",
              "  </tbody>\n",
              "</table>\n",
              "<p>15503 rows × 1 columns</p>\n",
              "</div><br><label><b>dtype:</b> int64</label>"
            ]
          },
          "metadata": {},
          "execution_count": 128
        }
      ]
    },
    {
      "cell_type": "code",
      "source": [
        "data.fillna({'Rating':0}, inplace=True)\n",
        "data['Votes'] = data['Votes'].astype(str).str.replace(',', '', regex=True)\n",
        "data['Votes'] = pd.to_numeric(data['Votes'], errors='coerce')\n",
        "data.fillna({'Votes':0}, inplace=True)"
      ],
      "metadata": {
        "id": "Vha4Bs6nlTj_"
      },
      "execution_count": null,
      "outputs": []
    },
    {
      "cell_type": "code",
      "source": [
        "numerical_columns = ['Year', 'Votes', 'Rating']\n",
        "for col in numerical_columns:\n",
        "    data[col] = pd.to_numeric(data[col], errors='coerce')\n",
        "    data.fillna({col:data[col].median()}, inplace=True)\n",
        "\n",
        "# Check for remaining NaNs in numerical columns\n",
        "print(\"Remaining NaNs in numerical columns:\")\n",
        "print(data[numerical_columns].isnull().sum())"
      ],
      "metadata": {
        "colab": {
          "base_uri": "https://localhost:8080/"
        },
        "id": "5KlZwlqulT0J",
        "outputId": "1a9728ad-e805-4d97-f687-061662b019a6"
      },
      "execution_count": null,
      "outputs": [
        {
          "output_type": "stream",
          "name": "stdout",
          "text": [
            "Remaining NaNs in numerical columns:\n",
            "Year      0\n",
            "Votes     0\n",
            "Rating    0\n",
            "dtype: int64\n"
          ]
        }
      ]
    },
    {
      "cell_type": "markdown",
      "source": [
        "**Removing Outliers**"
      ],
      "metadata": {
        "id": "BJ7q37LHsedy"
      }
    },
    {
      "cell_type": "code",
      "source": [
        "q1 = data['Votes'].quantile(0.25)\n",
        "q3 = data['Votes'].quantile(0.75)\n",
        "iqr = q3 - q1\n",
        "\n",
        "lower_bound = q1 - 1.5 * iqr\n",
        "upper_bound = q3 + 1.5 * iqr\n",
        "\n",
        "data = data[(data['Votes'] >= lower_bound) & (data['Votes'] <= upper_bound)]"
      ],
      "metadata": {
        "id": "35J-BhH5ejJB"
      },
      "execution_count": null,
      "outputs": []
    },
    {
      "cell_type": "markdown",
      "source": [
        "**Encoding Categorical Values**"
      ],
      "metadata": {
        "id": "go4MNfrpsk_x"
      }
    },
    {
      "cell_type": "code",
      "source": [
        "# Handle missing values in categorical columns\n",
        "categorical_columns = ['Genre', 'Actor 1', 'Actor 2', 'Actor 3', 'Director']\n",
        "for col in categorical_columns:\n",
        "    data.fillna({col:'Unknown'}, inplace=True)\n",
        "\n",
        "# Replace rare categories with 'Other'\n",
        "top_n = 20\n",
        "for col in categorical_columns:\n",
        "    top_categories = data[col].value_counts().nlargest(top_n).index\n",
        "    data[col] = data[col].apply(lambda x: x if x in top_categories else 'Other')\n",
        "\n",
        "# Feature Engineering\n",
        "data['Director_Avg_Rating'] = data.groupby('Director')['Rating'].transform('mean')\n",
        "actor_1_popularity = data.groupby('Actor 1').size().rename('Actor_1_Popularity')\n",
        "data = data.merge(actor_1_popularity, on='Actor 1', how='left')\n",
        "\n",
        "# Handle missing values using median\n",
        "categorical_columns = ['Genre', 'Actor 1', 'Actor 2', 'Actor 3', 'Director']\n",
        "for col in categorical_columns:\n",
        "    data.fillna({col:'Unknown'}, inplace=True)\n",
        "\n",
        "top_n = 20\n",
        "for col in categorical_columns:\n",
        "    top_categories = data[col].value_counts().nlargest(top_n).index\n",
        "    data[col] = data[col].apply(lambda x: x if x in top_categories else 'Other')\n",
        "\n",
        "data.loc[:,'Director_Avg_Rating'] = data.groupby('Director')['Rating'].transform('mean')\n",
        "data.loc[:,'Actor_1_Popularity'] = data.groupby('Actor 1')['Actor 1'].transform('count')\n",
        "\n",
        "# Handle missing values\n",
        "data.fillna({'Director_Avg_Rating':data['Director_Avg_Rating'].median()}, inplace=True)\n",
        "data.fillna({'Actor_1_Popularity':data['Actor_1_Popularity'].median()}, inplace=True)\n",
        "\n",
        "# One-Hot Encoding using pd.get_dummies\n",
        "encoded_data = pd.get_dummies(data[categorical_columns], drop_first=False)\n",
        "\n",
        "# Concatenate encoded columns and drop original columns\n",
        "data = pd.concat([data, encoded_data], axis=1).drop(categorical_columns, axis=1)\n",
        "\n",
        "print(\"Data Preprocessing Complete! Shape:\", data.shape)\n"
      ],
      "metadata": {
        "colab": {
          "base_uri": "https://localhost:8080/"
        },
        "id": "NZ1mDZqheGaG",
        "outputId": "11304e58-898d-41f2-d431-eda5751ee88b"
      },
      "execution_count": null,
      "outputs": [
        {
          "output_type": "stream",
          "name": "stdout",
          "text": [
            "Data Preprocessing Complete! Shape: (12682, 106)\n"
          ]
        }
      ]
    },
    {
      "cell_type": "code",
      "source": [
        "# Select relevant features\n",
        "X = data[['Year', 'Votes', 'Director_Avg_Rating', 'Actor_1_Popularity']]\n",
        "y = data['Rating']"
      ],
      "metadata": {
        "id": "8j61XI8CgDSl"
      },
      "execution_count": null,
      "outputs": []
    },
    {
      "cell_type": "code",
      "source": [
        "scaler = StandardScaler()\n",
        "X_scaled = scaler.fit_transform(X)\n",
        "\n",
        "pca = PCA(n_components=0.80)  # Retain 80% of the variance\n",
        "X_pca_reduced = pca.fit_transform(X_scaled)"
      ],
      "metadata": {
        "id": "m0DIoE5MgDY6"
      },
      "execution_count": null,
      "outputs": []
    },
    {
      "cell_type": "code",
      "source": [
        "x_train, x_test, y_train, y_test = train_test_split(X_pca_reduced, y, test_size=0.2, random_state=42) # Splitting train and test dataset"
      ],
      "metadata": {
        "id": "hXjTTIKsgDba"
      },
      "execution_count": null,
      "outputs": []
    },
    {
      "cell_type": "code",
      "source": [
        "model = RandomForestRegressor(n_estimators=100, random_state=42)\n",
        "model.fit(x_train, y_train)\n",
        "y_pred = model.predict(x_test)"
      ],
      "metadata": {
        "id": "M20ojBhsgDem"
      },
      "execution_count": null,
      "outputs": []
    },
    {
      "cell_type": "code",
      "source": [
        "mse = mean_squared_error(y_test, y_pred)\n",
        "r2 = r2_score(y_test, y_pred)\n",
        "print(f'Mean Squared Error: {mse}')\n",
        "print(f'R-squared: {r2}')"
      ],
      "metadata": {
        "colab": {
          "base_uri": "https://localhost:8080/"
        },
        "id": "RCXqcY6FgDk2",
        "outputId": "80dee4fa-2f6f-4bbb-ade6-1a6f41a722e8"
      },
      "execution_count": null,
      "outputs": [
        {
          "output_type": "stream",
          "name": "stdout",
          "text": [
            "Mean Squared Error: 0.7388753300425583\n",
            "R-squared: 0.9136015999242862\n"
          ]
        }
      ]
    },
    {
      "cell_type": "code",
      "source": [
        "#Evaluate on Train data\n",
        "y_train_pred = model.predict(x_train)\n",
        "train_r2 = r2_score(y_train, y_train_pred)\n",
        "print(f'Training R²: {train_r2}')\n",
        "\n",
        "# Evaluate on test data\n",
        "test_r2 = r2_score(y_test, y_pred)\n",
        "print(f'Test R²: {test_r2}')"
      ],
      "metadata": {
        "colab": {
          "base_uri": "https://localhost:8080/"
        },
        "id": "tjQ10ftQgDqp",
        "outputId": "b54db5a7-4763-430d-c43a-cdcaea38788c"
      },
      "execution_count": null,
      "outputs": [
        {
          "output_type": "stream",
          "name": "stdout",
          "text": [
            "Training R²: 0.9778426375771139\n",
            "Test R²: 0.9136015999242862\n"
          ]
        }
      ]
    },
    {
      "cell_type": "code",
      "source": [
        "# Perform 5-fold cross-validation\n",
        "scores = cross_val_score(model, X, y, cv=5, scoring='r2')\n",
        "print(f'Cross-Validation R² Scores: {scores}')\n",
        "print(f'Mean R²: {scores.mean()}')"
      ],
      "metadata": {
        "colab": {
          "base_uri": "https://localhost:8080/"
        },
        "id": "xBse6wpceGt_",
        "outputId": "2d35bde5-0d7a-484b-9ef3-f0810f969a71"
      },
      "execution_count": null,
      "outputs": [
        {
          "output_type": "stream",
          "name": "stdout",
          "text": [
            "Cross-Validation R² Scores: [0.92729743 0.9280047  0.9178742  0.92582205 0.92348537]\n",
            "Mean R²: 0.9244967499745623\n"
          ]
        }
      ]
    }
  ]
}